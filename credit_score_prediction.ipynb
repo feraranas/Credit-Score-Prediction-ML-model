{
 "cells": [
  {
   "cell_type": "markdown",
   "metadata": {},
   "source": [
    "# Credit Score Predictions"
   ]
  },
  {
   "cell_type": "markdown",
   "metadata": {},
   "source": [
    "Targeting Likely Good Credit Customers using Oracle Machine Learning's (OML) Classification Models\n",
    "Heather has spent most of her time over the past couple of years extracting and preparing data for analysis. The large volumes of data need extracting and processing mean she spends most of her time waiting for jobs to finish and very little of her time analyzing the data. Demands from marketing are forcing a new approach whereby the data remains in the data warehouse and is processed there. The alternative cloud solution is more complex, and has no direct out of the box processes to analyze the data in place. She started taking a look at Oracle, and found the simple SQL commands in ADWC are familiar, and execute extremely fast, leveraging all the performance features of the platform. Further once she is done can can apply the learning models to incoming data on the fly, and allow end user analysts to immediately see mining results. This drastically reduces the cycle of data preparation, analysis, and publishing. It also means there is no change to analysis/reporting Data Visualization toolset that users are familiar with.\n",
    "\n",
    "Scroll down this notebook and learn how to use OML to create predictive perspectives on data in ADWC, WITHOUT moving it. We will process a small 100k data set, but could use a 100M or billion row data set without worrying about processing time.\n",
    "\n",
    "This is an extract of Alphaoffice customer information. We will first get acclimated to Apache Zepplin, the open source interface for interactive collaboration in a team environment."
   ]
  },
  {
   "cell_type": "markdown",
   "metadata": {},
   "source": [
    "The Business Problem:\n",
    "Increase Sales by Targeting our Best Customers; Good Credit Customers!\n",
    "\n",
    "Heather has a hunch that weakening sales may be due to the company selling to non-optimal customers; customers who perhaps have poor credit and fail to make their payments for their purchases. Heather has over 100 variables to consider so wants to first explore her data using simple charts and graphs, but then move onto using Oracle Machine Learning's powerful algorithms to automtically sift through her data to find patterns, new insights and to make predictions that target her best customers–those who have good credit."
   ]
  },
  {
   "cell_type": "markdown",
   "metadata": {},
   "source": [
    "Links to Additional Information\n",
    "Oracle Autonomous Data Warehouse Cloud product information:\n",
    "\n",
    "https://cloud.oracle.com/en_US/datawarehouse\n",
    "\n",
    "Oracle Machine Learning product information:\n",
    "\n",
    "http://www.oracle.com/technetwork/database/options/oml/overview/index.html\n",
    "\n",
    "Getting Started with Oracle Machine Learning Documentation and Quickstart Tutorials:\n",
    "\n",
    "https://docs.oracle.com/en/cloud/paas/autonomous-data-warehouse-cloud/omlug/getting-started-oracle-machine-learning1.html#GUID-2AEC56A4-E751-48A3-AAA0-0659EDD639BA\n",
    "\n",
    "Oracle Data Mining Basics:\n",
    "\n",
    "https://docs.oracle.com/en/database/oracle/oracle-database/18/dmcon/what-is-data-mining.html#GUID-8232ABAD-E6B9-4C70-B227-E00738040932\n",
    "\n",
    "https://docs.oracle.com/en/database/oracle/oracle-database/18/dmcon/data-mining-basics.html#GUID-2116E665-721E-4EBA-AFE1-A30D6E8078C6"
   ]
  },
  {
   "cell_type": "markdown",
   "metadata": {},
   "source": [
    "# STEP 1: Review Zepplin Basics\n",
    "\n",
    "Note the page is made up of paragraphs such as this one where the text is sitting See Apache Zepplin Documentation. Also note that are four icons in the top left of this panel. Click on each icon to see what happens. Note that the first icon (arrow) runs the panel. This one is %md, which is markdown, or formatted text. Other panels will be of different types (%sql for SQL, #script for PL/SQL).\n",
    "\n",
    "Also see Oracle Machine Learning documentation\n",
    "\n",
    "Scroll down to the next step."
   ]
  },
  {
   "cell_type": "code",
   "execution_count": 1,
   "metadata": {},
   "outputs": [
    {
     "ename": "SyntaxError",
     "evalue": "invalid syntax (4143096546.py, line 1)",
     "output_type": "error",
     "traceback": [
      "\u001b[0;36m  Cell \u001b[0;32mIn[1], line 1\u001b[0;36m\u001b[0m\n\u001b[0;31m    *(Click, on, the, arrow, to, the, right, to, execute, this.*/)\u001b[0m\n\u001b[0m                                                               ^\u001b[0m\n\u001b[0;31mSyntaxError\u001b[0m\u001b[0;31m:\u001b[0m invalid syntax\n"
     ]
    }
   ],
   "source": [
    "/* Click on the arrow to the right to execute this.*/\n",
    "\n",
    "BEGIN\n",
    "\n",
    "execute immediate 'create or replace view credit_scoring_100k_v as select * from ml_user.CREDITSCOREDBCREDIT_SCORING_100K';\n",
    "\n",
    "execute immediate 'create or replace view credit_scoring_new_cust_v as select * from ml_user.CREDITSCOREDBCREDIT_SCORING_100K sample (10)';\n",
    "\n",
    "end;"
   ]
  },
  {
   "cell_type": "code",
   "execution_count": null,
   "metadata": {},
   "outputs": [],
   "source": []
  }
 ],
 "metadata": {
  "kernelspec": {
   "display_name": "Python 3",
   "language": "python",
   "name": "python3"
  },
  "language_info": {
   "codemirror_mode": {
    "name": "ipython",
    "version": 3
   },
   "file_extension": ".py",
   "mimetype": "text/x-python",
   "name": "python",
   "nbconvert_exporter": "python",
   "pygments_lexer": "ipython3",
   "version": "3.11.0"
  }
 },
 "nbformat": 4,
 "nbformat_minor": 2
}
